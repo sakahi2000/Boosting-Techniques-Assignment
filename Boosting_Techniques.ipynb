{
  "nbformat": 4,
  "nbformat_minor": 0,
  "metadata": {
    "colab": {
      "provenance": []
    },
    "kernelspec": {
      "name": "python3",
      "display_name": "Python 3"
    },
    "language_info": {
      "name": "python"
    }
  },
  "cells": [
    {
      "cell_type": "markdown",
      "source": [
        "Q1: What is Boosting in Machine Learning? Explain how it improves weak learners.\n",
        "\n",
        "Answer:\n",
        "Boosting is an ensemble learning technique that combines multiple weak learners (models that perform slightly better than random guessing) to build a strong learner.\n",
        "\n",
        "Works sequentially: each new model focuses on correcting the mistakes of the previous ones.\n",
        "\n",
        "Improves weak learners by assigning higher weights to misclassified samples, forcing the next model to pay more attention to them.\n",
        "\n",
        "Final prediction is a weighted majority vote (classification) or weighted sum (regression).\n",
        "\n",
        "\n",
        "\n",
        "\n",
        "\n",
        "\n",
        "\n"
      ],
      "metadata": {
        "id": "Ukl7Rm6Oc-KC"
      }
    },
    {
      "cell_type": "markdown",
      "source": [
        "Q2: Difference between AdaBoost and Gradient Boosting\n",
        "\n",
        "Answer:\n",
        "\n",
        "AdaBoost (Adaptive Boosting):\n",
        "\n",
        "Adjusts weights of samples based on errors.\n",
        "\n",
        "Emphasizes misclassified data points.\n",
        "\n",
        "Combines weak learners using weighted voting.\n",
        "\n",
        "Gradient Boosting:\n",
        "\n",
        "Optimizes a loss function by fitting new learners to the residual errors of previous models.\n",
        "\n",
        "Uses gradient descent to minimize error.\n",
        "\n",
        "More flexible (works with custom loss functions).\n"
      ],
      "metadata": {
        "id": "ZVWUxfCSgMIQ"
      }
    },
    {
      "cell_type": "markdown",
      "source": [
        "Q3: How does regularization help in XGBoost?\n",
        "\n",
        "Answer:\n",
        "\n",
        "XGBoost adds L1 (Lasso) and L2 (Ridge) regularization to its objective function.\n",
        "\n",
        "Helps by:\n",
        "\n",
        "Preventing overfitting by penalizing large coefficients.\n",
        "\n",
        "Encouraging sparsity (feature selection).\n",
        "\n",
        "Improving generalization performance.\n"
      ],
      "metadata": {
        "id": "_2Ms53AOgIFq"
      }
    },
    {
      "cell_type": "markdown",
      "source": [
        "Q4: Why is CatBoost efficient for categorical data?\n",
        "\n",
        "Answer:\n",
        "\n",
        "CatBoost uses ordered target encoding and permutation-driven techniques for categorical variables.\n",
        "\n",
        "Eliminates need for heavy preprocessing like one-hot encoding.\n",
        "\n",
        "Handles high-cardinality categorical features efficiently.\n",
        "\n",
        "Reduces overfitting by avoiding “target leakage.”\n"
      ],
      "metadata": {
        "id": "YQlnegCqgD6O"
      }
    },
    {
      "cell_type": "markdown",
      "source": [
        "Q5: Real-world applications where boosting > bagging\n",
        "\n",
        "Answer:\n",
        "Boosting is preferred when accuracy is more important than speed:\n",
        "\n",
        "Finance: Credit scoring, fraud detection.\n",
        "\n",
        "Healthcare: Disease prediction using complex patient data.\n",
        "\n",
        "Marketing: Customer churn prediction.\n",
        "\n",
        "Search Engines: Ranking algorithms.\n",
        "\n",
        "Image Recognition: Face detection (AdaBoost used in early systems).\n",
        "\n"
      ],
      "metadata": {
        "id": "5sENP4Lnf-v_"
      }
    },
    {
      "cell_type": "code",
      "source": [
        "#Q6: Python — AdaBoost Classifier (Breast Cancer dataset)\n",
        "from sklearn.datasets import load_breast_cancer\n",
        "from sklearn.ensemble import AdaBoostClassifier\n",
        "from sklearn.model_selection import train_test_split\n",
        "from sklearn.metrics import accuracy_score\n",
        "\n",
        "X, y = load_breast_cancer(return_X_y=True)\n",
        "X_train, X_test, y_train, y_test = train_test_split(X, y, test_size=0.3, random_state=42)\n",
        "\n",
        "ada = AdaBoostClassifier(n_estimators=100, random_state=42)\n",
        "ada.fit(X_train, y_train)\n",
        "\n",
        "y_pred = ada.predict(X_test)\n",
        "print(\"AdaBoost Accuracy:\", accuracy_score(y_test, y_pred))\n",
        "\n",
        "\n",
        "\n"
      ],
      "metadata": {
        "colab": {
          "base_uri": "https://localhost:8080/"
        },
        "id": "LV8TJX4yf015",
        "outputId": "b1cdf2a8-f89d-430d-cfd3-df73e4646743"
      },
      "execution_count": 7,
      "outputs": [
        {
          "output_type": "stream",
          "name": "stdout",
          "text": [
            "AdaBoost Accuracy: 0.9707602339181286\n"
          ]
        }
      ]
    },
    {
      "cell_type": "code",
      "source": [
        "#Q7: Python — Gradient Boosting Regressor (California Housing)\n",
        "from sklearn.datasets import fetch_california_housing\n",
        "from sklearn.ensemble import GradientBoostingRegressor\n",
        "from sklearn.model_selection import train_test_split\n",
        "from sklearn.metrics import r2_score\n",
        "\n",
        "X, y = fetch_california_housing(return_X_y=True)\n",
        "X_train, X_test, y_train, y_test = train_test_split(X, y, test_size=0.2, random_state=42)\n",
        "\n",
        "gbr = GradientBoostingRegressor(n_estimators=200, learning_rate=0.1, max_depth=3, random_state=42)\n",
        "gbr.fit(X_train, y_train)\n",
        "\n",
        "y_pred = gbr.predict(X_test)\n",
        "print(\"R² Score:\", r2_score(y_test, y_pred))\n",
        "\n",
        "\n"
      ],
      "metadata": {
        "colab": {
          "base_uri": "https://localhost:8080/"
        },
        "id": "M2vpr9vVfnxb",
        "outputId": "00e8713e-6d22-4c06-ad05-604e7809fa70"
      },
      "execution_count": 6,
      "outputs": [
        {
          "output_type": "stream",
          "name": "stdout",
          "text": [
            "R² Score: 0.8004451261281281\n"
          ]
        }
      ]
    },
    {
      "cell_type": "code",
      "source": [
        "#Q8: Python — XGBoost Classifier + GridSearchCV\n",
        "from xgboost import XGBClassifier\n",
        "from sklearn.model_selection import GridSearchCV\n",
        "\n",
        "X, y = load_breast_cancer(return_X_y=True)\n",
        "\n",
        "param_grid = {\"learning_rate\": [0.01, 0.1, 0.2]}\n",
        "grid = GridSearchCV(XGBClassifier(use_label_encoder=False, eval_metric=\"logloss\"), param_grid, cv=5)\n",
        "grid.fit(X, y)\n",
        "\n",
        "print(\"Best Parameters:\", grid.best_params_)\n",
        "print(\"Best Accuracy:\", grid.best_score_)\n",
        "\n",
        "\n"
      ],
      "metadata": {
        "colab": {
          "base_uri": "https://localhost:8080/"
        },
        "id": "4H-x1bPve-Xb",
        "outputId": "7a68d4e2-44d7-41e2-e274-f0ca431eeae2"
      },
      "execution_count": 5,
      "outputs": [
        {
          "output_type": "stream",
          "name": "stderr",
          "text": [
            "/usr/local/lib/python3.12/dist-packages/xgboost/training.py:183: UserWarning: [15:53:54] WARNING: /workspace/src/learner.cc:738: \n",
            "Parameters: { \"use_label_encoder\" } are not used.\n",
            "\n",
            "  bst.update(dtrain, iteration=i, fobj=obj)\n",
            "/usr/local/lib/python3.12/dist-packages/xgboost/training.py:183: UserWarning: [15:53:55] WARNING: /workspace/src/learner.cc:738: \n",
            "Parameters: { \"use_label_encoder\" } are not used.\n",
            "\n",
            "  bst.update(dtrain, iteration=i, fobj=obj)\n",
            "/usr/local/lib/python3.12/dist-packages/xgboost/training.py:183: UserWarning: [15:53:56] WARNING: /workspace/src/learner.cc:738: \n",
            "Parameters: { \"use_label_encoder\" } are not used.\n",
            "\n",
            "  bst.update(dtrain, iteration=i, fobj=obj)\n",
            "/usr/local/lib/python3.12/dist-packages/xgboost/training.py:183: UserWarning: [15:53:56] WARNING: /workspace/src/learner.cc:738: \n",
            "Parameters: { \"use_label_encoder\" } are not used.\n",
            "\n",
            "  bst.update(dtrain, iteration=i, fobj=obj)\n",
            "/usr/local/lib/python3.12/dist-packages/xgboost/training.py:183: UserWarning: [15:53:56] WARNING: /workspace/src/learner.cc:738: \n",
            "Parameters: { \"use_label_encoder\" } are not used.\n",
            "\n",
            "  bst.update(dtrain, iteration=i, fobj=obj)\n",
            "/usr/local/lib/python3.12/dist-packages/xgboost/training.py:183: UserWarning: [15:53:56] WARNING: /workspace/src/learner.cc:738: \n",
            "Parameters: { \"use_label_encoder\" } are not used.\n",
            "\n",
            "  bst.update(dtrain, iteration=i, fobj=obj)\n",
            "/usr/local/lib/python3.12/dist-packages/xgboost/training.py:183: UserWarning: [15:53:57] WARNING: /workspace/src/learner.cc:738: \n",
            "Parameters: { \"use_label_encoder\" } are not used.\n",
            "\n",
            "  bst.update(dtrain, iteration=i, fobj=obj)\n",
            "/usr/local/lib/python3.12/dist-packages/xgboost/training.py:183: UserWarning: [15:53:57] WARNING: /workspace/src/learner.cc:738: \n",
            "Parameters: { \"use_label_encoder\" } are not used.\n",
            "\n",
            "  bst.update(dtrain, iteration=i, fobj=obj)\n",
            "/usr/local/lib/python3.12/dist-packages/xgboost/training.py:183: UserWarning: [15:53:57] WARNING: /workspace/src/learner.cc:738: \n",
            "Parameters: { \"use_label_encoder\" } are not used.\n",
            "\n",
            "  bst.update(dtrain, iteration=i, fobj=obj)\n",
            "/usr/local/lib/python3.12/dist-packages/xgboost/training.py:183: UserWarning: [15:53:57] WARNING: /workspace/src/learner.cc:738: \n",
            "Parameters: { \"use_label_encoder\" } are not used.\n",
            "\n",
            "  bst.update(dtrain, iteration=i, fobj=obj)\n",
            "/usr/local/lib/python3.12/dist-packages/xgboost/training.py:183: UserWarning: [15:53:57] WARNING: /workspace/src/learner.cc:738: \n",
            "Parameters: { \"use_label_encoder\" } are not used.\n",
            "\n",
            "  bst.update(dtrain, iteration=i, fobj=obj)\n",
            "/usr/local/lib/python3.12/dist-packages/xgboost/training.py:183: UserWarning: [15:53:58] WARNING: /workspace/src/learner.cc:738: \n",
            "Parameters: { \"use_label_encoder\" } are not used.\n",
            "\n",
            "  bst.update(dtrain, iteration=i, fobj=obj)\n",
            "/usr/local/lib/python3.12/dist-packages/xgboost/training.py:183: UserWarning: [15:53:58] WARNING: /workspace/src/learner.cc:738: \n",
            "Parameters: { \"use_label_encoder\" } are not used.\n",
            "\n",
            "  bst.update(dtrain, iteration=i, fobj=obj)\n",
            "/usr/local/lib/python3.12/dist-packages/xgboost/training.py:183: UserWarning: [15:53:58] WARNING: /workspace/src/learner.cc:738: \n",
            "Parameters: { \"use_label_encoder\" } are not used.\n",
            "\n",
            "  bst.update(dtrain, iteration=i, fobj=obj)\n",
            "/usr/local/lib/python3.12/dist-packages/xgboost/training.py:183: UserWarning: [15:53:59] WARNING: /workspace/src/learner.cc:738: \n",
            "Parameters: { \"use_label_encoder\" } are not used.\n",
            "\n",
            "  bst.update(dtrain, iteration=i, fobj=obj)\n",
            "/usr/local/lib/python3.12/dist-packages/xgboost/training.py:183: UserWarning: [15:54:00] WARNING: /workspace/src/learner.cc:738: \n",
            "Parameters: { \"use_label_encoder\" } are not used.\n",
            "\n",
            "  bst.update(dtrain, iteration=i, fobj=obj)\n"
          ]
        },
        {
          "output_type": "stream",
          "name": "stdout",
          "text": [
            "Best Parameters: {'learning_rate': 0.2}\n",
            "Best Accuracy: 0.9736376339077782\n"
          ]
        }
      ]
    },
    {
      "cell_type": "code",
      "source": [
        "#Q9: Python — CatBoost Classifier + Confusion Matrix from catboost import CatBoostClassifier\n",
        "\n",
        "from sklearn.datasets import load_breast_cancer\n",
        "from sklearn.ensemble import GradientBoostingClassifier\n",
        "from sklearn.metrics import confusion_matrix\n",
        "import seaborn as sns\n",
        "import matplotlib.pyplot as plt\n",
        "\n",
        "X, y = load_breast_cancer(return_X_y=True)\n",
        "\n",
        "gb = GradientBoostingClassifier(n_estimators=100, random_state=42)\n",
        "gb.fit(X, y)\n",
        "\n",
        "y_pred = gb.predict(X)\n",
        "\n",
        "cm = confusion_matrix(y, y_pred)\n",
        "\n",
        "sns.heatmap(cm, annot=True, fmt=\"d\", cmap=\"Blues\")\n",
        "plt.title(\"Gradient Boosting Confusion Matrix\")\n",
        "plt.xlabel(\"Predicted\")\n",
        "plt.ylabel(\"Actual\")\n",
        "plt.show()\n"
      ],
      "metadata": {
        "colab": {
          "base_uri": "https://localhost:8080/",
          "height": 472
        },
        "id": "vuffWWOheQPW",
        "outputId": "d232b0f9-079d-440a-809a-dc78b5a18f25"
      },
      "execution_count": 3,
      "outputs": [
        {
          "output_type": "display_data",
          "data": {
            "text/plain": [
              "<Figure size 640x480 with 2 Axes>"
            ],
            "image/png": "[encoded data removed]"
          },
          "metadata": {}
        }
      ]
    },
    {
      "cell_type": "markdown",
      "source": [
        "\n",
        "Q10: Loan Default Prediction — Data Science Pipeline\n",
        "\n",
        "Answer:\n",
        "\n",
        "Data Preprocessing:\n",
        "\n",
        "Handle missing values (imputation with mean/median for numeric, most frequent for categorical).\n",
        "\n",
        "Encode categorical variables (CatBoost handles directly, XGBoost/LightGBM need encoding).\n",
        "\n",
        "Scale numeric variables if needed.\n",
        "\n",
        "Choice of Boosting Algorithm:\n",
        "\n",
        "CatBoost → Best for mixed categorical/numeric features.\n",
        "\n",
        "XGBoost → Strong performance for structured/tabular data.\n",
        "\n",
        "AdaBoost → Baseline, but less efficient on high-dimensional data.\n",
        "\n",
        "Hyperparameter Tuning:\n",
        "\n",
        "Use GridSearchCV or RandomizedSearchCV for learning_rate, max_depth, n_estimators.\n",
        "\n",
        "Apply early stopping.\n",
        "\n",
        "Evaluation Metrics:\n",
        "\n",
        "Use AUC-ROC, Precision-Recall, F1-score (better than just accuracy for imbalanced data).\n",
        "\n",
        "Confusion matrix to interpret false positives/negatives.\n",
        "\n",
        "Business Benefits:\n",
        "\n",
        "More accurate prediction of loan defaults → reduces financial risk.\n",
        "\n",
        "Helps in designing better credit policies.\n",
        "\n",
        "Balances approval rate with minimizing losses."
      ],
      "metadata": {
        "id": "qKSCSodEdgXU"
      }
    }
  ]
}